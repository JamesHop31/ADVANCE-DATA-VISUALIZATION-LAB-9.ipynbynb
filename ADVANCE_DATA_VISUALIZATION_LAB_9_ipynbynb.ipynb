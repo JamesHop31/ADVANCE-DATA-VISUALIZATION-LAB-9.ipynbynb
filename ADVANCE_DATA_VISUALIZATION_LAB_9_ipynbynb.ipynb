{
  "nbformat": 4,
  "nbformat_minor": 0,
  "metadata": {
    "colab": {
      "provenance": [],
      "authorship_tag": "ABX9TyMqTxPt2Lb2FuktxxgYGl/R",
      "include_colab_link": true
    },
    "kernelspec": {
      "name": "python3",
      "display_name": "Python 3"
    },
    "language_info": {
      "name": "python"
    }
  },
  "cells": [
    {
      "cell_type": "markdown",
      "metadata": {
        "id": "view-in-github",
        "colab_type": "text"
      },
      "source": [
        "<a href=\"https://colab.research.google.com/github/JamesHop31/ADVANCE-DATA-VISUALIZATION-LAB-9.ipynbynb/blob/main/ADVANCE_DATA_VISUALIZATION_LAB_9_ipynbynb.ipynb\" target=\"_parent\"><img src=\"https://colab.research.google.com/assets/colab-badge.svg\" alt=\"Open In Colab\"/></a>"
      ]
    },
    {
      "cell_type": "code",
      "execution_count": null,
      "metadata": {
        "colab": {
          "base_uri": "https://localhost:8080/"
        },
        "id": "JY71nau5lif_",
        "outputId": "5d93bff4-3e78-4670-b9bb-7d74499dfb91"
      },
      "outputs": [
        {
          "output_type": "stream",
          "name": "stdout",
          "text": [
            "[3, 7, 4, 2]\n",
            "[3, 7, 4, 2]\n",
            "[3, 7]\n",
            "[3]\n",
            "[3, 7, 4]\n",
            "[3, 7, 4, 2]\n",
            "[3, 'fish', 4, 2]\n",
            "[70, 30, 20, 90]\n",
            "[50, 70, 30, 20, 90, 10, 50]\n"
          ]
        }
      ],
      "source": [
        "## LISTS\n",
        "\n",
        "z=[3,7,4,2]\n",
        "\n",
        "# display all the contents of the list\n",
        "print(z)\n",
        "\n",
        "# or you can display all the contents of the list by doing this:\n",
        "print(z[::])\n",
        "\n",
        "# ACCESSING VALUES IN A LIST\n",
        "\n",
        "# Access the first item of a list at index 0 \n",
        "z[0]\n",
        "\n",
        "# Access last item in the list\n",
        "z[-1]\n",
        "\n",
        "# First index is inclusive (before the 🙂 and last (after the 🙂 is not \n",
        "# z=[3, 7, 4, 2]\n",
        "#    0  1  2  3\n",
        "print(z [0:2])\n",
        "\n",
        "print(z [0:1])\n",
        "\n",
        "print(z [0:3])\n",
        "\n",
        "print(z [0:4])\n",
        "\n",
        "# everything up to index 3 \n",
        "z [:3]\n",
        "\n",
        "\n",
        "# index 1 to end of list \n",
        "z [1:]\n",
        "\n",
        "\n",
        "# Update the item at index 1 with the string \"fish\" \n",
        "z [1] = \"fish\"\n",
        "print(z)\n",
        "\n",
        "# another example of a list\n",
        "heterogenousElements = [3, True, 'Michael', 2.0]\n",
        "\n",
        "heterogenousElements\n",
        "\n",
        "\n",
        "\n",
        "\n",
        "\n",
        "z = [4, 1, 5, 4, 10, 4]\n",
        "\n",
        "# The index method returns the first index at which a value occurs.\n",
        "# it will return index 0\n",
        "z.index(4)\n",
        "\n",
        "# 4 1 5 4 10 4\n",
        "# 0 1 2 3 4  5\n",
        "# The index() method returns the index of the first occurrence of 4 after index 2, which is 3. \n",
        "# The index of the first occurrence of 4 is 0, \n",
        "# the index of the second occurrence is 3, \n",
        "# and the index of the third occurrence is 5. \n",
        "# Since we specified the starting index as 2, \n",
        "# the method returned the index of the second occurrence of 4 after that position.\n",
        "\n",
        "z = [4, 1, 5, 4, 10, 4]\n",
        "z.index(4, 2)\n",
        "\n",
        "# Initialize list\n",
        "\n",
        "SampleList = [50, 70, 30, 20, 90, 10, 50]\n",
        "\n",
        "\n",
        "# Display list\n",
        "print(SampleList[1:5])\n",
        "\n",
        "# Initialize list\n",
        "Lst = [50, 70, 30, 20, 90, 10, 50]\n",
        " \n",
        "# Display list\n",
        "print(Lst[-7::1])\n",
        "###############"
      ]
    },
    {
      "cell_type": "code",
      "source": [
        "random_list = [4, 1, 5, 4, 10, 4]\n",
        "random_list.count(4)\n",
        "z = [3, 7, 4, 2]\n",
        "z.sort()\n",
        "print(z)\n",
        "z = [7, 4, 3, 2]\n",
        "z.append(3)\n",
        "print(z)\n",
        "z = [7, 4, 3, 2, 3]\n",
        "z.remove(2)\n",
        "print(z)\n",
        "z = [7, 4, 3, 3]\n",
        "print(z.pop(1))\n",
        "print(z)\n",
        "z = [7, 3, 3]\n",
        "z.extend([4,5])\n",
        "print(z)\n",
        "z = [7, 3, 3, 4, 5]\n",
        "z.insert(4, [1, 2])\n",
        "print(z)"
      ],
      "metadata": {
        "colab": {
          "base_uri": "https://localhost:8080/"
        },
        "id": "B7V3ZJZSUbn8",
        "outputId": "a992827a-b57f-4ce9-9e59-8bbf1e83f5e2"
      },
      "execution_count": 1,
      "outputs": [
        {
          "output_type": "stream",
          "name": "stdout",
          "text": [
            "[2, 3, 4, 7]\n",
            "[7, 4, 3, 2, 3]\n",
            "[7, 4, 3, 3]\n",
            "4\n",
            "[7, 3, 3]\n",
            "[7, 3, 3, 4, 5]\n",
            "[7, 3, 3, 4, [1, 2], 5]\n"
          ]
        }
      ]
    }
  ]
}